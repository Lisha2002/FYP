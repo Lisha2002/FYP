{
  "nbformat": 4,
  "nbformat_minor": 0,
  "metadata": {
    "colab": {
      "provenance": [],
      "authorship_tag": "ABX9TyPxohj6tcPL3FU373hlB637",
      "include_colab_link": true
    },
    "kernelspec": {
      "name": "python3",
      "display_name": "Python 3"
    },
    "language_info": {
      "name": "python"
    }
  },
  "cells": [
    {
      "cell_type": "markdown",
      "metadata": {
        "id": "view-in-github",
        "colab_type": "text"
      },
      "source": [
        "<a href=\"https://colab.research.google.com/github/Lisha2002/FYP/blob/main/user_interface.ipynb\" target=\"_parent\"><img src=\"https://colab.research.google.com/assets/colab-badge.svg\" alt=\"Open In Colab\"/></a>"
      ]
    },
    {
      "cell_type": "code",
      "source": [
        "import gradio as gr\n",
        "\n",
        "from PIL import Image\n",
        "import numpy as np\n",
        "import librosa\n",
        "import librosa.display\n",
        "import tensorflow as tf\n",
        "\n",
        "# Function for text translation\n",
        "def translate_text(text, target_language):\n",
        "    translator = Translator()\n",
        "    translated_text = translator.translate(text, dest=target_language)\n",
        "    return translated_text.text\n",
        "\n",
        "# Function for image classification\n",
        "def classify_image(image):\n",
        "    # Load pre-trained model\n",
        "    model = tf.keras.applications.MobileNetV2(include_top=True, weights='imagenet')\n",
        "\n",
        "    # Preprocess the image\n",
        "    img = np.array(image)\n",
        "    img = tf.image.resize(img, (224, 224)) / 255.0\n",
        "    img = np.expand_dims(img, axis=0)\n",
        "\n",
        "    # Classify the image\n",
        "    prediction = model.predict(img)\n",
        "    decoded_predictions = tf.keras.applications.mobilenet_v2.decode_predictions(prediction, top=3)[0]\n",
        "    return {label: float(confidence) for (_, label, confidence) in decoded_predictions}\n",
        "\n",
        "# Function for audio to text transcription\n",
        "def transcribe_audio(audio):\n",
        "    # Load pre-trained model\n",
        "    model = tf.keras.models.load_model('asr_model.h5')\n",
        "\n",
        "    # Convert audio to spectrogram\n",
        "    y, sr = librosa.load(audio.name, sr=None)\n",
        "    mel_spec = librosa.feature.melspectrogram(y=y, sr=sr)\n",
        "    mel_spec_db = librosa.power_to_db(mel_spec, ref=np.max)\n",
        "    mel_spec_db = np.expand_dims(mel_spec_db, axis=-1)\n",
        "    mel_spec_db = np.expand_dims(mel_spec_db, axis=0)\n",
        "\n",
        "    # Transcribe audio\n",
        "    transcription = model.predict(mel_spec_db)\n",
        "    return transcription[0]\n",
        "\n",
        "# Text translation interface\n",
        "translation_interface = gr.Interface(\n",
        "    fn=translate_text,\n",
        "    inputs=[\"text\", \"text\"],\n",
        "    outputs=\"text\",\n",
        "    title=\"Text Translation\",\n",
        "    description=\"Translate text to desired language.\"\n",
        ")\n",
        "\n",
        "# Image classification interface\n",
        "classification_interface = gr.Interface(\n",
        "    fn=classify_image,\n",
        "    inputs=\"image\",\n",
        "    outputs=\"label\",\n",
        "    title=\"Image Classification\",\n",
        "    description=\"Classify the content of the image.\"\n",
        ")\n",
        "\n",
        "# Audio transcription interface\n",
        "transcription_interface = gr.Interface(\n",
        "    fn=transcribe_audio,\n",
        "    inputs=\"audio\",\n",
        "    outputs=\"text\",\n",
        "    title=\"Audio Transcription\",\n",
        "    description=\"Transcribe speech from audio.\"\n",
        ")\n",
        "\n",
        "# Launch interfaces\n",
        "translation_interface.launch()\n",
        "classification_interface.launch()\n",
        "transcription_interface.launch()\n"
      ],
      "metadata": {
        "colab": {
          "base_uri": "https://localhost:8080/",
          "height": 1000
        },
        "id": "0YqyWF_vpbXJ",
        "outputId": "f5d983f8-e0b1-485b-9572-e67340e9ee92"
      },
      "execution_count": 9,
      "outputs": [
        {
          "output_type": "stream",
          "name": "stdout",
          "text": [
            "Setting queue=True in a Colab notebook requires sharing enabled. Setting `share=True` (you can turn this off by setting `share=False` in `launch()` explicitly).\n",
            "\n",
            "Colab notebook detected. To show errors in colab notebook, set debug=True in launch()\n",
            "Running on public URL: https://cfa2fee5399166a48b.gradio.live\n",
            "\n",
            "This share link expires in 72 hours. For free permanent hosting and GPU upgrades, run `gradio deploy` from Terminal to deploy to Spaces (https://huggingface.co/spaces)\n"
          ]
        },
        {
          "output_type": "display_data",
          "data": {
            "text/plain": [
              "<IPython.core.display.HTML object>"
            ],
            "text/html": [
              "<div><iframe src=\"https://cfa2fee5399166a48b.gradio.live\" width=\"100%\" height=\"500\" allow=\"autoplay; camera; microphone; clipboard-read; clipboard-write;\" frameborder=\"0\" allowfullscreen></iframe></div>"
            ]
          },
          "metadata": {}
        },
        {
          "output_type": "stream",
          "name": "stdout",
          "text": [
            "Setting queue=True in a Colab notebook requires sharing enabled. Setting `share=True` (you can turn this off by setting `share=False` in `launch()` explicitly).\n",
            "\n",
            "Colab notebook detected. To show errors in colab notebook, set debug=True in launch()\n",
            "Running on public URL: https://3d10d29c47746e621f.gradio.live\n",
            "\n",
            "This share link expires in 72 hours. For free permanent hosting and GPU upgrades, run `gradio deploy` from Terminal to deploy to Spaces (https://huggingface.co/spaces)\n"
          ]
        },
        {
          "output_type": "display_data",
          "data": {
            "text/plain": [
              "<IPython.core.display.HTML object>"
            ],
            "text/html": [
              "<div><iframe src=\"https://3d10d29c47746e621f.gradio.live\" width=\"100%\" height=\"500\" allow=\"autoplay; camera; microphone; clipboard-read; clipboard-write;\" frameborder=\"0\" allowfullscreen></iframe></div>"
            ]
          },
          "metadata": {}
        },
        {
          "output_type": "stream",
          "name": "stdout",
          "text": [
            "Setting queue=True in a Colab notebook requires sharing enabled. Setting `share=True` (you can turn this off by setting `share=False` in `launch()` explicitly).\n",
            "\n",
            "Colab notebook detected. To show errors in colab notebook, set debug=True in launch()\n",
            "Running on public URL: https://1493f9fa6c33236d7f.gradio.live\n",
            "\n",
            "This share link expires in 72 hours. For free permanent hosting and GPU upgrades, run `gradio deploy` from Terminal to deploy to Spaces (https://huggingface.co/spaces)\n"
          ]
        },
        {
          "output_type": "display_data",
          "data": {
            "text/plain": [
              "<IPython.core.display.HTML object>"
            ],
            "text/html": [
              "<div><iframe src=\"https://1493f9fa6c33236d7f.gradio.live\" width=\"100%\" height=\"500\" allow=\"autoplay; camera; microphone; clipboard-read; clipboard-write;\" frameborder=\"0\" allowfullscreen></iframe></div>"
            ]
          },
          "metadata": {}
        },
        {
          "output_type": "execute_result",
          "data": {
            "text/plain": []
          },
          "metadata": {},
          "execution_count": 9
        }
      ]
    }
  ]
}